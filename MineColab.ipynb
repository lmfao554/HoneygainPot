{
  "cells": [
    {
      "cell_type": "markdown",
      "metadata": {
        "id": "ZktjRJuZp1h6"
      },
      "source": [
        "\n",
        "```\n",
        "███╗   ███╗██╗███╗   ██╗███████╗ ██████╗ ██████╗ ██╗      █████╗ ██████╗\n",
        "████╗ ████║██║████╗  ██║██╔════╝██╔════╝██╔═══██╗██║     ██╔══██╗██╔══██╗\n",
        "██╔████╔██║██║██╔██╗ ██║█████╗  ██║     ██║   ██║██║     ███████║██████╔╝\n",
        "██║╚██╔╝██║██║██║╚██╗██║██╔══╝  ██║     ██║   ██║██║     ██╔══██║██╔══██╗\n",
        "██║ ╚═╝ ██║██║██║ ╚████║███████╗╚██████╗╚██████╔╝███████╗██║  ██║██████╔╝\n",
        "╚═╝     ╚═╝╚═╝╚═╝  ╚═══╝╚══════╝ ╚═════╝ ╚═════╝ ╚══════╝╚═╝  ╚═╝╚═════╝\n",
        "```\n",
        "**Run a Minecraft Server on Google Colab!**\n",
        "\n",
        "---\n",
        "\n",
        "The script below will run your server. You'll have to create a server first to be able to use it - don't worry, the scripts below will do the majority of the work for you. You might also want to change the default region to your region, check below."
      ]
    },
    {
      "cell_type": "code",
      "execution_count": 18,
      "metadata": {
        "id": "lqtMoYg0dUmu",
        "outputId": "15fd5c5b-a67e-48da-85d2-40d659d93596",
        "colab": {
          "base_uri": "https://localhost:8080/"
        }
      },
      "outputs": [
        {
          "output_type": "stream",
          "name": "stdout",
          "text": [
            "apt cache successfully updated\n",
            "Yay! Openjdk17 has been successfully installed.\n",
            "Openjdk17 is working correctly, you are good to go.\n",
            "Drive already mounted at /content/drive; to attempt to forcibly remount, call drive.mount(\"/content/drive\", force_remount=True).\n",
            "/content\n",
            "colabconfig.json  installer.log  run.bat  server.jar\n",
            "eula.txt\t  libraries\t run.sh   user_jvm_args.txt\n",
            "Proceeding to use ngrok\n",
            "Get your authtoken from https://dashboard.ngrok.com/auth\n",
            "Authtoken saved to configuration file: /root/.config/ngrok/ngrok.yml\n",
            "Your server address is tcp://0.tcp.ngrok.io:13149\n",
            "Starting server...\n",
            "JVM info: Ubuntu - 17.0.13 - 17.0.13+11-Ubuntu-2ubuntu122.04\n",
            "java.net.preferIPv4Stack=true\n",
            "Current Time: 06/01/2025 10:37:16\n",
            "Host: files.minecraftforge.net [172.67.161.211, 104.21.58.163]\n",
            "Host: maven.minecraftforge.net [172.67.161.211, 104.21.58.163]\n",
            "Host: libraries.minecraft.net [13.107.253.40]\n",
            "Host: launchermeta.mojang.com [13.107.253.40]\n",
            "Host: piston-meta.mojang.com [13.107.253.40]\n",
            "Host: sessionserver.mojang.com [13.107.253.40]\n",
            "Host: authserver.mojang.com [Unknown]\n",
            "Data kindly mirrored by CreeperHost at https://www.creeperhost.net/\n",
            "java.awt.HeadlessException: \n",
            "No X11 DISPLAY variable was set,\n",
            "but this program performed an operation which requires it.\n",
            "\tat java.desktop/java.awt.GraphicsEnvironment.checkHeadless(GraphicsEnvironment.java:164)\n",
            "\tat java.desktop/java.awt.Window.init(Window.java:501)\n",
            "\tat java.desktop/java.awt.Window.<init>(Window.java:453)\n",
            "\tat java.desktop/java.awt.Window.<init>(Window.java:608)\n",
            "\tat java.desktop/java.awt.Dialog.<init>(Dialog.java:675)\n",
            "\tat java.desktop/java.awt.Dialog.<init>(Dialog.java:520)\n",
            "\tat java.desktop/javax.swing.JDialog.<init>(JDialog.java:423)\n",
            "\tat java.desktop/javax.swing.JOptionPane.createDialog(JOptionPane.java:956)\n",
            "\tat net.minecraftforge.installer.InstallerPanel.run(InstallerPanel.java:279)\n",
            "\tat net.minecraftforge.installer.SimpleInstaller.launchGui(SimpleInstaller.java:182)\n",
            "\tat net.minecraftforge.installer.SimpleInstaller.main(SimpleInstaller.java:154)\n",
            "Exception in thread \"main\" \n",
            "java.awt.HeadlessException: \n",
            "No X11 DISPLAY variable was set,\n",
            "but this program performed an operation which requires it.\n",
            "\tat java.desktop/java.awt.GraphicsEnvironment.checkHeadless(GraphicsEnvironment.java:164)\n",
            "\tat java.desktop/java.awt.Window.<init>(Window.java:553)\n",
            "\tat java.desktop/java.awt.Frame.<init>(Frame.java:428)\n",
            "\tat java.desktop/java.awt.Frame.<init>(Frame.java:393)\n",
            "\tat java.desktop/javax.swing.SwingUtilities$SharedOwnerFrame.<init>(SwingUtilities.java:1919)\n",
            "\tat java.desktop/javax.swing.SwingUtilities.getSharedOwnerFrame(SwingUtilities.java:1995)\n",
            "\tat java.desktop/javax.swing.JOptionPane.getRootFrame(JOptionPane.java:1695)\n",
            "\tat java.desktop/javax.swing.JOptionPane.showOptionDialog(JOptionPane.java:874)\n",
            "\tat java.desktop/javax.swing.JOptionPane.showMessageDialog(JOptionPane.java:676)\n",
            "\tat java.desktop/javax.swing.JOptionPane.showMessageDialog(JOptionPane.java:647)\n",
            "\tat net.minecraftforge.installer.SimpleInstaller.launchGui(SimpleInstaller.java:185)\n",
            "\tat net.minecraftforge.installer.SimpleInstaller.main(SimpleInstaller.java:154)\n"
          ]
        }
      ],
      "source": [
        "import os\n",
        "import json\n",
        "from google.colab import drive\n",
        "import subprocess\n",
        "from pyngrok import ngrok\n",
        "\n",
        "# Update the package lists\n",
        "!sudo apt update &>/dev/null && echo \"apt cache successfully updated\" || echo \"apt cache update failed, you might receive stale packages\"\n",
        "# Install OpenJDK 17\n",
        "!sudo apt-get install openjdk-17-jre-headless &>/dev/null && echo \"Yay! Openjdk17 has been successfully installed.\" || echo \"Failed to install OpenJdk17.\"\n",
        "\n",
        "# Perform Java version check\n",
        "java_ver = !java -version 2>&1 | awk -F[\\\"\\.] -v OFS=. 'NR==1{print $2}'\n",
        "if java_ver[0] == \"17\" :\n",
        "  print(\"Openjdk17 is working correctly, you are good to go.\")\n",
        "else:\n",
        "  print(\"Openjdk17 doesn't seem to be installed or isn't working, falling back to java\", java_ver[0], \". You might experience reduced performance. Minecraft 1.17 and above might fail to launch.\")\n",
        "\n",
        "# Mount Google Drive\n",
        "drive.mount('/content/drive')\n",
        "# Change directory to the Minecraft server folder on Google Drive\n",
        "%cd \"/content/drive/My Drive/Minecraft-server\"\n",
        "!ls # list the directory contents (to verify that working directory was changed)\n",
        "\n",
        "# Import config file.\n",
        "if os.path.isfile(\"colabconfig.json\"):\n",
        "  colabconfig = json.load(open(\"colabconfig.json\"))\n",
        "else:\n",
        "  colabconfig = {\"server_type\": \"generic\"}  # using default if config doesn't exist.\n",
        "  json.dump(colabconfig, open(\"colabconfig.json\",'w'))\n",
        "\n",
        "# Server jar names.\n",
        "jar_list = {'paper': 'server.jar', 'fabric': 'fabric-server-launch.jar', 'generic': 'server.jar', 'forge': 'server.jar'}\n",
        "jar_name = jar_list[colabconfig[\"server_type\"]]\n",
        "\n",
        "# Java arguments\n",
        "if colabconfig[\"server_type\"] == \"paper\":\n",
        "  server_flags = \"-XX:+UseG1GC -XX:+ParallelRefProcEnabled -XX:MaxGCPauseMillis=200 -XX:+UnlockExperimentalVMOptions -XX:+DisableExplicitGC -XX:+AlwaysPreTouch -XX:G1NewSizePercent=30 -XX:G1MaxNewSizePercent=40 -XX:G1HeapRegionSize=8M -XX:G1ReservePercent=20 -XX:G1HeapWastePercent=5 -XX:G1MixedGCCountTarget=4 -XX:InitiatingHeapOccupancyPercent=15 -XX:G1MixedGCLiveThresholdPercent=90 -XX:G1RSetUpdatingPauseTimePercent=5 -XX:SurvivorRatio=32 -XX:+PerfDisableSharedMem -XX:MaxTenuringThreshold=1 -Dusing.aikars.flags=https://mcflags.emc.gs -Daikars.new.flags=true\"\n",
        "else:\n",
        "  server_flags = \"\"  # Aikar's flags might negatively impact performance on non-paper servers.\n",
        "\n",
        "memory_allocation = \"-Xmx6144M -Xms6144M\"\n",
        "\n",
        "# Ngrok Setup\n",
        "print(\"Proceeding to use ngrok\")\n",
        "\n",
        "!pip -q install pyngrok\n",
        "\n",
        "# Ask for the ngrok authtoken\n",
        "print(\"Get your authtoken from https://dashboard.ngrok.com/auth\")\n",
        "authtoken = \"2UVQqugKuLqdP0nbcj6PfuJFLjy_3ToignpAAneX42y2xnr9p\"  # Replace with your ngrok auth token\n",
        "! ngrok authtoken $authtoken  # login to ngrok\n",
        "\n",
        "# Sets default ngrok region\n",
        "ngrok.set_auth_token(authtoken)\n",
        "url = ngrok.connect(25565, 'tcp')\n",
        "\n",
        "# Output the ngrok public URL\n",
        "print('Your server address is ' + url.public_url)\n",
        "\n",
        "# Start the Minecraft server (using the pre-built forge jar)\n",
        "print('Starting server...')\n",
        "!java -Xmx10144M -Xms10144M -jar server.jar nogui"
      ]
    },
    {
      "cell_type": "markdown",
      "metadata": {
        "id": "_4IowSDVUZp8"
      },
      "source": [
        "# Make-a-Server\n",
        "\n",
        "The code below will download a server for you and accept the EULA. After running these scripts, your server will be ready to run."
      ]
    },
    {
      "cell_type": "markdown",
      "metadata": {
        "id": "7wrNfinQOlWV"
      },
      "source": [
        "**Download the Minecraft server**\n",
        "\n",
        "The code below will download Paper, a high-performance fork of the Vanilla server.\n",
        "Other server platforms can be used by placing the server.jar in the Drive folder manually."
      ]
    },
    {
      "cell_type": "code",
      "execution_count": 21,
      "metadata": {
        "id": "Fy5-YjJMPV3S",
        "outputId": "0aecae64-e28c-42f1-b9ed-550d79184f82",
        "colab": {
          "base_uri": "https://localhost:8080/"
        }
      },
      "outputs": [
        {
          "output_type": "stream",
          "name": "stdout",
          "text": [
            "Drive already mounted at /content/drive; to attempt to forcibly remount, call drive.mount(\"/content/drive\", force_remount=True).\n",
            "Successfully downloaded server.jar to /content/drive/My Drive/Minecraft-server/server.jar\n",
            "Done!\n"
          ]
        }
      ],
      "source": [
        "import os\n",
        "import requests\n",
        "import json\n",
        "from google.colab import drive\n",
        "\n",
        "# Configuration\n",
        "version = '1.18.2'\n",
        "forge_version = \"43.2.8\"  # If you are going to use forge\n",
        "server_type = 'forge'  # Choose from: fabric, paper, forge\n",
        "\n",
        "# Mount Google Drive\n",
        "drive.mount('/content/drive')\n",
        "\n",
        "# Create the Minecraft server directory if it doesn't exist\n",
        "server_dir = \"/content/drive/My Drive/Minecraft-server\"\n",
        "if not os.path.exists(server_dir):\n",
        "    os.makedirs(server_dir)\n",
        "\n",
        "os.chdir(server_dir)\n",
        "\n",
        "# Fetch the download URL based on server type\n",
        "if server_type == \"paper\":\n",
        "    try:\n",
        "        a = requests.get(f\"https://papermc.io/api/v2/projects/paper/versions/{version}\")\n",
        "        a.raise_for_status()\n",
        "        builds = a.json()[\"builds\"]\n",
        "\n",
        "        if not builds:\n",
        "            raise ValueError(f\"No builds available for version {version}\")\n",
        "\n",
        "        latest_build = builds[-1]\n",
        "        b = requests.get(f\"https://papermc.io/api/v2/projects/paper/versions/{version}/builds/{latest_build}\")\n",
        "        b.raise_for_status()\n",
        "\n",
        "        download_name = b.json()[\"downloads\"][\"application\"][\"name\"]\n",
        "        url = f\"https://papermc.io/api/v2/projects/paper/versions/{version}/builds/{latest_build}/downloads/{download_name}\"\n",
        "        jar_name = \"server.jar\"\n",
        "\n",
        "    except (requests.RequestException, ValueError) as e:\n",
        "        print(f\"Error fetching PaperMC build: {e}\")\n",
        "        url = None\n",
        "\n",
        "elif server_type == \"fabric\":\n",
        "    url = \"https://maven.fabricmc.net/net/fabricmc/fabric-installer/0.7.4/fabric-installer-0.7.4.jar\"\n",
        "    jar_name = \"fabric-installer.jar\"\n",
        "\n",
        "elif server_type == \"forge\":\n",
        "    url = f\"https://maven.minecraftforge.net/net/minecraftforge/forge/1.18.2-40.2.0/forge-1.18.2-40.2.0-installer.jar\"\n",
        "    jar_name = \"server.jar\"\n",
        "\n",
        "# Download the file if URL is valid\n",
        "if url:\n",
        "    r = requests.get(url)\n",
        "    if r.status_code == 200:\n",
        "        jar_path = os.path.join(server_dir, jar_name)\n",
        "        with open(jar_path, 'wb') as f:\n",
        "            f.write(r.content)\n",
        "        print(f'Successfully downloaded {jar_name} to {jar_path}')\n",
        "    else:\n",
        "        print(f'Error {r.status_code}! Most likely you entered an unsupported version.')\n",
        "\n",
        "# Run specific installer if needed\n",
        "if server_type == \"fabric\":\n",
        "    os.system(f\"java -jar {jar_name} server -mcversion {version} -downloadMinecraft\")\n",
        "elif server_type == \"forge\":\n",
        "    os.system(f\"java -jar {jar_name} --installServer --headless\")\n",
        "\n",
        "# Save configuration to a JSON file\n",
        "colabconfig = {\"server_type\": server_type}\n",
        "with open(\"colabconfig.json\", 'w') as config_file:\n",
        "    json.dump(colabconfig, config_file)\n",
        "\n",
        "print('Done!')\n"
      ]
    },
    {
      "cell_type": "markdown",
      "source": [],
      "metadata": {
        "id": "4_JYHAQDAmS-"
      }
    },
    {
      "cell_type": "markdown",
      "metadata": {
        "id": "vhHYrg6FlbcQ"
      },
      "source": [
        "**Automatically accept the EULA**"
      ]
    },
    {
      "cell_type": "code",
      "execution_count": 6,
      "metadata": {
        "id": "aefCB6cFlle8",
        "outputId": "583691bd-43f3-45b0-c208-c66fb16db16d",
        "colab": {
          "base_uri": "https://localhost:8080/"
        }
      },
      "outputs": [
        {
          "output_type": "stream",
          "name": "stdout",
          "text": [
            "Drive already mounted at /content/drive; to attempt to forcibly remount, call drive.mount(\"/content/drive\", force_remount=True).\n",
            "/content\n"
          ]
        }
      ],
      "source": [
        "# Please read the file stored in your server folder before running this command.\n",
        "# Also, go to https://www.minecraft.net/en-us/eula to read Minecraft's EULA.\n",
        "\n",
        "# Make sure Drive is mounted\n",
        "from google.colab import drive\n",
        "drive.mount('/content/drive')\n",
        "\n",
        "%cd \"/content/drive/My Drive/Minecraft-server\"\n",
        "!echo \"eula=true\" >> eula.txt"
      ]
    },
    {
      "cell_type": "markdown",
      "metadata": {
        "id": "FO5S4OHVdV5O"
      },
      "source": [
        "# Debug\n",
        "SSH access to host OS - Thanks to [colab-ssh](https://github.com/WassimBenzarti/colab-ssh).\n",
        "\n",
        "<p style=\"color:red;\">YOU MIGHT GET BANNED</p>"
      ]
    },
    {
      "cell_type": "code",
      "execution_count": null,
      "metadata": {
        "id": "cM7gKp6Yi8Q2"
      },
      "outputs": [],
      "source": [
        "#@title Colab-ssh tunnel\n",
        "#@markdown Execute this cell to open the ssh tunnel. Check [colab-ssh documentation](https://github.com/WassimBenzarti/colab-ssh) for more details.\n",
        "\n",
        "# Install colab_ssh on google colab\n",
        "!pip install colab_ssh --upgrade\n",
        "\n",
        "from colab_ssh import launch_ssh_cloudflared, init_git_cloudflared\n",
        "ssh_tunnel_password = \"<PUT_YOUR_PASSWORD_HERE>\" #@param {type: \"string\"}\n",
        "launch_ssh_cloudflared(password=ssh_tunnel_password)"
      ]
    },
    {
      "cell_type": "code",
      "execution_count": null,
      "metadata": {
        "id": "7kR6rsn7jyxt"
      },
      "outputs": [],
      "source": [
        "#Get public address (ngrok)\n",
        "! curl -s http://localhost:4040/api/tunnels | python3 -c \\\n",
        "    \"import sys, json; print(json.load(sys.stdin)['tunnels'][0]['public_url'])\""
      ]
    },
    {
      "cell_type": "code",
      "execution_count": null,
      "metadata": {
        "id": "Z2rztsCQk0kh"
      },
      "outputs": [],
      "source": [
        "## For inspecting the minecraft server directory ##\n",
        "%cd \"/content/drive/My Drive/Minecraft-server\"\n",
        "!ls\n"
      ]
    }
  ],
  "metadata": {
    "colab": {
      "name": "MineColab",
      "provenance": []
    },
    "kernelspec": {
      "display_name": "Python 3 (ipykernel)",
      "language": "python",
      "name": "python3"
    },
    "language_info": {
      "codemirror_mode": {
        "name": "ipython",
        "version": 3
      },
      "file_extension": ".py",
      "mimetype": "text/x-python",
      "name": "python",
      "nbconvert_exporter": "python",
      "pygments_lexer": "ipython3",
      "version": "3.10.4"
    }
  },
  "nbformat": 4,
  "nbformat_minor": 0
}